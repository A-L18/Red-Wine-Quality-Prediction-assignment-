{
 "cells": [
  {
   "cell_type": "code",
   "execution_count": 1,
   "id": "eade815d",
   "metadata": {},
   "outputs": [],
   "source": [
    "import pandas as pd\n",
    "import numpy as np\n",
    "import matplotlib.pyplot as plt\n",
    "import seaborn as sb\n"
   ]
  },
  {
   "cell_type": "code",
   "execution_count": null,
   "id": "31c0871a",
   "metadata": {},
   "outputs": [],
   "source": [
    "Dataframe = pd.read_csv(R'winequality-red.csv')"
   ]
  },
  {
   "cell_type": "code",
   "execution_count": null,
   "id": "943fd5d0",
   "metadata": {},
   "outputs": [],
   "source": [
    "Dataframe.head()\n"
   ]
  },
  {
   "cell_type": "code",
   "execution_count": null,
   "id": "301bba44",
   "metadata": {},
   "outputs": [],
   "source": [
    "Dataframe.info()\n"
   ]
  },
  {
   "cell_type": "code",
   "execution_count": null,
   "id": "9c4bc61b",
   "metadata": {},
   "outputs": [],
   "source": [
    "Dataframe.describe()\n"
   ]
  },
  {
   "cell_type": "code",
   "execution_count": null,
   "id": "7186ec88",
   "metadata": {},
   "outputs": [],
   "source": [
    "Dataframe.isnull().sum()\n"
   ]
  },
  {
   "cell_type": "code",
   "execution_count": null,
   "id": "a7be56c1",
   "metadata": {},
   "outputs": [],
   "source": [
    "sb.pairplot(Dataframe)\n",
    "plt.show()"
   ]
  },
  {
   "cell_type": "code",
   "execution_count": null,
   "id": "c9510a57",
   "metadata": {},
   "outputs": [],
   "source": [
    "Dataframe.hist(bins=20,figsize=(10,10))\n",
    "plt.show()"
   ]
  },
  {
   "cell_type": "code",
   "execution_count": null,
   "id": "15be7f84",
   "metadata": {},
   "outputs": [],
   "source": [
    "plt.figure(figsize=[15,6])\n",
    "plt.bar(df['quality'],df['alcohol'])\n",
    "plt.xlabel('quality')\n",
    "plt.ylabel('alcohol')\n",
    "plt.show()"
   ]
  },
  {
   "cell_type": "code",
   "execution_count": null,
   "id": "c60a2484",
   "metadata": {},
   "outputs": [],
   "source": [
    "plt.figure(figsize=[18,7])\n",
    "sb.heatmap(Dataframe.corr(),annot=True)\n",
    "plt.show()"
   ]
  },
  {
   "cell_type": "code",
   "execution_count": null,
   "id": "12c8a023",
   "metadata": {},
   "outputs": [],
   "source": [
    "\n",
    "colm = []\n",
    "for i in range(len(Dataframe.corr().keys())):\n",
    "  for j in range(j):\n",
    "    if abs(Dataframe.corr().iloc[i,j]) > 0.7:\n",
    "      colm = Dataframe.corr().columns[i]"
   ]
  },
  {
   "cell_type": "code",
   "execution_count": null,
   "id": "79ebc312",
   "metadata": {},
   "outputs": [],
   "source": [
    "new_df = Dataframe.drop('total sulfur dioxide',axis = 1)\n"
   ]
  },
  {
   "cell_type": "code",
   "execution_count": null,
   "id": "d508032a",
   "metadata": {},
   "outputs": [],
   "source": [
    "new_df.update(new_df.fillna(new_df.mean()))\n"
   ]
  },
  {
   "cell_type": "code",
   "execution_count": null,
   "id": "55f989e3",
   "metadata": {},
   "outputs": [],
   "source": [
    "cat = new_df.select_dtypes(include='O')\n",
    "df_dummies = pd.get_dummies(new_df,drop_first = True)\n",
    "print(df_dummies)\n"
   ]
  },
  {
   "cell_type": "code",
   "execution_count": null,
   "id": "ebeea59b",
   "metadata": {},
   "outputs": [],
   "source": [
    "df_dummies['best quality']=[1 if x>=7 else 0 for x in Dataframe.quality]\n",
    "print(df_dummies)\n"
   ]
  },
  {
   "cell_type": "code",
   "execution_count": null,
   "id": "a64b7dae",
   "metadata": {},
   "outputs": [],
   "source": [
    "from sklearn.preprocessing import train_test_split\n",
    "x = df_dummies.drop(['quality','best quality'],axis=1)\n",
    "y = df_dummies['best quality']\n",
    "xtrain,xtest,ytrain,ytest = train_test_split(x,y,test_size=0.2,random_state=40)\n"
   ]
  },
  {
   "cell_type": "code",
   "execution_count": null,
   "id": "f75f9a8f",
   "metadata": {},
   "outputs": [],
   "source": [
    "from sklearn.preprocessing import MinMaxScaler\n",
    "norm = MinMaxScaler()\n",
    "norm_fit = norm.fit(xtrain)\n",
    "scal_xtrain = norm_fit.transform(xtrain)\n",
    "scal_xtest = norm_fit.transform(xtest)\n",
    "print(scal_xtrain)\n"
   ]
  },
  {
   "cell_type": "code",
   "execution_count": null,
   "id": "faccdb88",
   "metadata": {},
   "outputs": [],
   "source": [
    "\n",
    "from sklearn.ensemble import RandomForestClassifier\n",
    "\n",
    "from sklearn.matrics import mean_squared_error\n",
    "\n",
    "from sklearn.metrics import classification_report\n",
    "\n",
    "rnd = RandomForestClassifier()\n",
    "\n",
    "fit_rnd = rnd.fit(new_xtrain,ytrain)\n",
    "\n",
    "rnd_score = rnd.score(new_xtest,ytest)\n",
    "\n",
    "print('score of model is : ',rnd_score)\n",
    "\n",
    "print('.................................')\n",
    "\n",
    "print('calculating the error')\n",
    "\n",
    "MSE = mean_squared_error(ytest,y_predict)\n",
    "\n",
    "RMSE = np.sqrt(MSE)\n",
    "\n",
    "print('mean squared error is : ',MSE)\n",
    "\n",
    "print('root mean squared error is : ',RMSE)\n",
    "\n",
    "print(classification_report(ytest,x_predict))\n"
   ]
  },
  {
   "cell_type": "code",
   "execution_count": null,
   "id": "9c7e3608",
   "metadata": {},
   "outputs": [],
   "source": [
    "x_predict = list(rnd.predict(xtest))\n",
    "df = {'predicted':x_predict,'original':ytest}\n",
    "pd.DataFrame(df).head(10)\n"
   ]
  },
  {
   "cell_type": "code",
   "execution_count": null,
   "id": "4527e389",
   "metadata": {},
   "outputs": [],
   "source": []
  }
 ],
 "metadata": {
  "kernelspec": {
   "display_name": "Python 3",
   "language": "python",
   "name": "python3"
  },
  "language_info": {
   "codemirror_mode": {
    "name": "ipython",
    "version": 3
   },
   "file_extension": ".py",
   "mimetype": "text/x-python",
   "name": "python",
   "nbconvert_exporter": "python",
   "pygments_lexer": "ipython3",
   "version": "3.8.8"
  }
 },
 "nbformat": 4,
 "nbformat_minor": 5
}
